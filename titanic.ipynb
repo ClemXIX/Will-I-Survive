{
 "cells": [
  {
   "source": [
    "## Oyh Oyh mouissaillon, va tu survive au Titanic ?"
   ],
   "cell_type": "markdown",
   "metadata": {}
  },
  {
   "source": [
    "Tiré du Kaggle, Titanic (https://www.kaggle.com/c/titanic/overview)"
   ],
   "cell_type": "markdown",
   "metadata": {}
  },
  {
   "cell_type": "code",
   "execution_count": null,
   "metadata": {},
   "outputs": [],
   "source": [
    "import pandas as pd\n",
    "from matplotlib import pyplot as plt"
   ]
  },
  {
   "cell_type": "code",
   "execution_count": null,
   "metadata": {},
   "outputs": [],
   "source": [
    "#!pip list"
   ]
  },
  {
   "source": [
    "### Téléchargement des csv"
   ],
   "cell_type": "markdown",
   "metadata": {}
  },
  {
   "cell_type": "code",
   "execution_count": null,
   "metadata": {},
   "outputs": [],
   "source": [
    "#!wget https://raw.githubusercontent.com/agconti/kaggle-titanic/master/data/test.csv --no-check-certificate\n",
    "#!wget https://raw.githubusercontent.com/agconti/kaggle-titanic/master/data/train.csv --no-check-certificate\n",
    "#!wget https://raw.githubusercontent.com/minsuk-heo/kaggle-titanic/master/input/gender_submission.csv --no-check-certificate"
   ]
  },
  {
   "source": [
    "### Analyse basique des données de \"Train.csv\""
   ],
   "cell_type": "markdown",
   "metadata": {}
  },
  {
   "source": [
    "On import les deux dataset pour le moment, et on va se survir de \"train\" pour le moment, le \"test\" servira pour vérifier la véracité de notre algorythme de prédiction de survie"
   ],
   "cell_type": "markdown",
   "metadata": {}
  },
  {
   "cell_type": "code",
   "execution_count": null,
   "metadata": {},
   "outputs": [],
   "source": [
    "df = pd.read_csv('train.csv')\n",
    "#df_test = pd.read_csv('test.csv')"
   ]
  },
  {
   "cell_type": "code",
   "execution_count": null,
   "metadata": {},
   "outputs": [],
   "source": [
    "df.info()"
   ]
  },
  {
   "cell_type": "code",
   "execution_count": null,
   "metadata": {},
   "outputs": [],
   "source": [
    "df.sample(10)"
   ]
  },
  {
   "cell_type": "code",
   "execution_count": null,
   "metadata": {},
   "outputs": [],
   "source": [
    "df.isnull().sum().sort_values(ascending=False) "
   ]
  },
  {
   "source": [
    "On peut constater qu'il y a 12 colonnes, 3 ont des valeurs non répertoriées. "
   ],
   "cell_type": "markdown",
   "metadata": {}
  },
  {
   "cell_type": "code",
   "execution_count": null,
   "metadata": {},
   "outputs": [],
   "source": [
    "df[\"Survived\"].plot(kind=\"hist\", figsize=(5,11))"
   ]
  },
  {
   "cell_type": "code",
   "execution_count": null,
   "metadata": {},
   "outputs": [],
   "source": [
    "df.Sex = df.Sex.map({'female' : 1, 'male' : 0})"
   ]
  },
  {
   "cell_type": "code",
   "execution_count": null,
   "metadata": {},
   "outputs": [],
   "source": [
    "df.Sex.plot(kind=\"hist\", figsize=(5,11))"
   ]
  },
  {
   "source": [
    "#### Création de la colone de la langue parlé, si le passager à embarqué à Cherbourg ou non "
   ],
   "cell_type": "markdown",
   "metadata": {}
  },
  {
   "cell_type": "code",
   "execution_count": null,
   "metadata": {},
   "outputs": [],
   "source": [
    "df.Embarked.nunique()"
   ]
  },
  {
   "cell_type": "code",
   "execution_count": null,
   "metadata": {},
   "outputs": [],
   "source": [
    "df[\"Embarked\"].unique()"
   ]
  },
  {
   "cell_type": "code",
   "execution_count": null,
   "metadata": {},
   "outputs": [],
   "source": [
    "df.Embarked = df.Embarked.map({'C' : 0, 'Q' : 1, 'S' : 2})"
   ]
  },
  {
   "cell_type": "code",
   "execution_count": null,
   "metadata": {},
   "outputs": [],
   "source": [
    "df.Embarked.plot(kind='hist', figsize=(7,11))"
   ]
  },
  {
   "cell_type": "code",
   "execution_count": null,
   "metadata": {},
   "outputs": [],
   "source": [
    "anglophone = (df[\"Embarked\"] == 1) | (df[\"Embarked\"] == 2)\n",
    "print(type(anglophone))"
   ]
  },
  {
   "cell_type": "code",
   "execution_count": null,
   "metadata": {},
   "outputs": [],
   "source": [
    "anglophone.unique()"
   ]
  },
  {
   "cell_type": "code",
   "execution_count": null,
   "metadata": {},
   "outputs": [],
   "source": [
    "df[\"anglophone\"] = anglophone"
   ]
  },
  {
   "cell_type": "code",
   "execution_count": null,
   "metadata": {},
   "outputs": [],
   "source": [
    "df.info()"
   ]
  },
  {
   "cell_type": "code",
   "execution_count": null,
   "metadata": {},
   "outputs": [],
   "source": [
    "#df.anglophone = df.anglophone.map({'False' : 0, 'True' : 1})"
   ]
  },
  {
   "cell_type": "code",
   "execution_count": null,
   "metadata": {},
   "outputs": [],
   "source": [
    "df[\"anglophone\"] = df[\"anglophone\"].astype(int)"
   ]
  },
  {
   "cell_type": "code",
   "execution_count": null,
   "metadata": {},
   "outputs": [],
   "source": [
    "df.anglophone.value_counts()"
   ]
  },
  {
   "cell_type": "code",
   "execution_count": null,
   "metadata": {},
   "outputs": [],
   "source": [
    "df.anglophone.unique()"
   ]
  },
  {
   "cell_type": "code",
   "execution_count": null,
   "metadata": {},
   "outputs": [],
   "source": [
    "df[\"anglophone\"]"
   ]
  },
  {
   "cell_type": "code",
   "execution_count": null,
   "metadata": {},
   "outputs": [],
   "source": [
    "df.anglophone.plot(kind=\"hist\", figsize=(7,11))"
   ]
  },
  {
   "source": [
    "### Tadammm après seulement 121 cellules on a transformé la colonne \"Embarked\" en int, et ajouté une nouvelle qui est anglophone, facile hein"
   ],
   "cell_type": "markdown",
   "metadata": {}
  },
  {
   "source": [
    "#### maintenant occupons nous de la colonne age, basiquement on va modifier les valeurs manquante par la moyenne, puis on supprime les colonnes qui ne nous intéresse pas pour le ML"
   ],
   "cell_type": "markdown",
   "metadata": {}
  },
  {
   "cell_type": "code",
   "execution_count": null,
   "metadata": {},
   "outputs": [],
   "source": [
    "df[\"Age\"] = df[\"Age\"].fillna(df[\"Age\"].mean())"
   ]
  },
  {
   "cell_type": "code",
   "execution_count": null,
   "metadata": {},
   "outputs": [],
   "source": [
    "df = df.drop([\"Cabin\", \"Embarked\", \"Ticket\", \"Name\"], axis=1)"
   ]
  },
  {
   "cell_type": "code",
   "execution_count": null,
   "metadata": {},
   "outputs": [],
   "source": [
    "df.info()"
   ]
  },
  {
   "cell_type": "code",
   "execution_count": null,
   "metadata": {},
   "outputs": [],
   "source": []
  }
 ],
 "metadata": {
  "kernelspec": {
   "name": "python3",
   "display_name": "Python 3.8.5 64-bit ('titaniC': conda)",
   "metadata": {
    "interpreter": {
     "hash": "a1f9f20a4a2a8f479b3dbcccec0e143bd93a2044361b2792c302293c41da6d03"
    }
   }
  }
 },
 "nbformat": 4,
 "nbformat_minor": 4
}